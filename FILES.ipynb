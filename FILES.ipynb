{
  "nbformat": 4,
  "nbformat_minor": 0,
  "metadata": {
    "colab": {
      "provenance": []
    },
    "kernelspec": {
      "name": "python3",
      "display_name": "Python 3"
    },
    "language_info": {
      "name": "python"
    }
  },
  "cells": [
    {
      "cell_type": "markdown",
      "source": [
        "Files, exceptional handling, logging and memory management Questions\n",
        "\n",
        "1. What is the difference between interpreted and compiled languages?\n",
        "\n",
        "•  Interpreted languages execute code line by line (e.g., Python).\n",
        "•  Compiled languages convert the entire code into machine code before execution (e.g., C++).\n",
        "\n",
        "2. What is exception handling in Python?\n",
        "\n",
        "It is a mechanism to catch and handle runtime errors gracefully using try, except, finally, and else.\n",
        "\n",
        "3. What is the purpose of the finally block in exception handling?\n",
        "\n",
        "The finally block runs no matter what, ensuring clean-up actions like closing files or releasing resources.\n",
        "\n",
        "4. What is logging in Python?\n",
        "\n",
        "Logging records events during program execution for debugging, monitoring, or auditing purposes.\n",
        "\n",
        "5. What is the significance of the_del__ method in Python?\n",
        "\n",
        "It's a destructor method called when an object is about to be destroyed, often used to release resources.\n",
        "\n",
        "6. What is the difference between import and from... Import in Python?\n",
        "\n",
        "•  import module: Imports the entire module.\n",
        "\n",
        "•  from module import function: Imports a specific function/class from the module.\n",
        "\n",
        "7. How can you handle multiple exceptions in Python?\n",
        "\n",
        "try:\n",
        "\n",
        "# code\n",
        "except (TypeError, ValueError) as e:\n",
        "\n",
        "print(e)\n",
        "\n",
        "8. What is the purpose of the with statement when handling files in Python?\n",
        "\n",
        "It ensures the file is properly closed after operations, even if an error occurs.\n",
        "\n",
        "9. What is the difference between multithreading and multiprocessing?\n",
        "\n",
        "•  Multithreading: Multiple threads within a single process (shared memory).\n",
        "\n",
        "•  Multiprocessing: Multiple processes (separate memory spaces).\n",
        "\n",
        "10. What are the advantages of using logging in a program?\n",
        "\n",
        "•  Tracks program flow\n",
        "•  Helps debug errors\n",
        "•  Persistent records of activity\n",
        "\n",
        "11. What is memory management in Python?\n",
        "\n",
        "Handled automatically via reference counting and garbage collection.\n",
        "\n",
        "12. What are the basic steps involved in exception handling in Python?\n",
        "\n",
        "•  Try block\n",
        "•  Except block\n",
        "•  (Optional) Else block\n",
        "•  (Optional) Finally block\n",
        "\n",
        "13. Why is memory management important in Python?\n",
        "\n",
        "•  Prevents memory leaks\n",
        "•  Ensures optimal performance\n",
        "•  Keeps the program stable\n",
        "\n",
        "14. What is the role of try and except in exception handling?\n",
        "\n",
        "•  try: Code that may cause an exception\n",
        "•  except: Code to handle the exception\n",
        "\n",
        "15. How does Python's garbage collection system work?\n",
        "\n",
        "Python uses reference counting and a cyclic garbage collector to delete unreferenced objects.\n",
        "\n",
        "16. What is the purpose of the else block in exception handling?\n",
        "\n",
        "Executes if no exception occurs in the try block.\n",
        "\n",
        "17. What are the common logging levels in Python?\n",
        "\n",
        "DEBUG, INFO, WARNING, ERROR, CRITICAL\n",
        "\n",
        "18. What is the difference between os.fork() and multiprocessing in Python?\n",
        "\n",
        "•  os.fork() (Unix only): Creates a child process at the OS level.\n",
        "•  multiprocessing: Portable module that creates new processes in Python.\n",
        "\n",
        "19. What is the importance of closing a file in Python?\n",
        "\n",
        "•  Frees up system resources\n",
        "•  Ensures data is properly written to disk\n",
        "\n",
        "20. What is the difference between file.read() and file.readline() in Python?\n",
        "\n",
        "•  read(): Reads the entire file.\n",
        "•  readline(): Reads one line at a time.\n",
        "\n",
        "21. What is the logging module in Python used for?\n",
        "\n",
        "Used to track events, debug issues, and store logs programmatically.\n",
        "\n",
        "22. What is the os module in Python used for in file handling?\n",
        "\n",
        "Used for interacting with the operating system, like file paths, creating directories, etc.\n",
        "\n",
        "23. What are the challenges associated with memory management in Python?\n",
        "\n",
        "•  Detecting circular references\n",
        "•  Managing large data structures\n",
        "•  Manual memory leaks (via global/static references)\n",
        "\n",
        "24. How do you raise an exception manually in Python?\n",
        "\n",
        "raise ValueError(\"Custom error message\")\n",
        "\n",
        "25. Why is it important to use multithreading in certain applications?\n",
        "\n",
        "•  Useful for I/O-bound tasks\n",
        "•  Improves responsiveness\n",
        "•  Allows concurrent operations"
      ],
      "metadata": {
        "id": "49lJh9PLYHik"
      }
    },
    {
      "cell_type": "markdown",
      "source": [
        "Practical Questions\n",
        "1. How can you open a file for writing in Python and write a string to it?\n"
      ],
      "metadata": {
        "id": "LgzTAbDcY-7F"
      }
    },
    {
      "cell_type": "code",
      "source": [
        "with open(\"output.txt\", \"w\") as file:\n",
        "  file.write(\"Hello, this is a sample text.\")"
      ],
      "metadata": {
        "id": "Wp2lrlUMZGdV"
      },
      "execution_count": 6,
      "outputs": []
    },
    {
      "cell_type": "markdown",
      "source": [
        "2. Write a Python program to read the contents of a file and print each line"
      ],
      "metadata": {
        "id": "AbVX58qruAf5"
      }
    },
    {
      "cell_type": "code",
      "source": [
        "# Step 1: Upload the file from your local machine\n",
        "from google.colab import files\n",
        "\n",
        "uploaded = files.upload()  # Prompts you to upload a file\n",
        "\n",
        "# Step 2: Read and print the contents of the uploaded file\n",
        "for filename in uploaded.keys():\n",
        "    print(f\"\\nContents of '{filename}':\\n\")\n",
        "    try:\n",
        "        with open(filename, 'r') as file:\n",
        "            for line in file:\n",
        "                print(line, end='')  # Avoid extra newlines\n",
        "    except Exception as e:\n",
        "        print(f\"An error occurred: {e}\")\n"
      ],
      "metadata": {
        "colab": {
          "base_uri": "https://localhost:8080/",
          "height": 38
        },
        "id": "n7fcmhitm5zb",
        "outputId": "b39083cd-ec86-4440-f83b-6bfc3e606e08"
      },
      "execution_count": 1,
      "outputs": [
        {
          "output_type": "display_data",
          "data": {
            "text/plain": [
              "<IPython.core.display.HTML object>"
            ],
            "text/html": [
              "\n",
              "     <input type=\"file\" id=\"files-dacc3b48-09df-46e9-8abc-ea82e4d2babf\" name=\"files[]\" multiple disabled\n",
              "        style=\"border:none\" />\n",
              "     <output id=\"result-dacc3b48-09df-46e9-8abc-ea82e4d2babf\">\n",
              "      Upload widget is only available when the cell has been executed in the\n",
              "      current browser session. Please rerun this cell to enable.\n",
              "      </output>\n",
              "      <script>// Copyright 2017 Google LLC\n",
              "//\n",
              "// Licensed under the Apache License, Version 2.0 (the \"License\");\n",
              "// you may not use this file except in compliance with the License.\n",
              "// You may obtain a copy of the License at\n",
              "//\n",
              "//      http://www.apache.org/licenses/LICENSE-2.0\n",
              "//\n",
              "// Unless required by applicable law or agreed to in writing, software\n",
              "// distributed under the License is distributed on an \"AS IS\" BASIS,\n",
              "// WITHOUT WARRANTIES OR CONDITIONS OF ANY KIND, either express or implied.\n",
              "// See the License for the specific language governing permissions and\n",
              "// limitations under the License.\n",
              "\n",
              "/**\n",
              " * @fileoverview Helpers for google.colab Python module.\n",
              " */\n",
              "(function(scope) {\n",
              "function span(text, styleAttributes = {}) {\n",
              "  const element = document.createElement('span');\n",
              "  element.textContent = text;\n",
              "  for (const key of Object.keys(styleAttributes)) {\n",
              "    element.style[key] = styleAttributes[key];\n",
              "  }\n",
              "  return element;\n",
              "}\n",
              "\n",
              "// Max number of bytes which will be uploaded at a time.\n",
              "const MAX_PAYLOAD_SIZE = 100 * 1024;\n",
              "\n",
              "function _uploadFiles(inputId, outputId) {\n",
              "  const steps = uploadFilesStep(inputId, outputId);\n",
              "  const outputElement = document.getElementById(outputId);\n",
              "  // Cache steps on the outputElement to make it available for the next call\n",
              "  // to uploadFilesContinue from Python.\n",
              "  outputElement.steps = steps;\n",
              "\n",
              "  return _uploadFilesContinue(outputId);\n",
              "}\n",
              "\n",
              "// This is roughly an async generator (not supported in the browser yet),\n",
              "// where there are multiple asynchronous steps and the Python side is going\n",
              "// to poll for completion of each step.\n",
              "// This uses a Promise to block the python side on completion of each step,\n",
              "// then passes the result of the previous step as the input to the next step.\n",
              "function _uploadFilesContinue(outputId) {\n",
              "  const outputElement = document.getElementById(outputId);\n",
              "  const steps = outputElement.steps;\n",
              "\n",
              "  const next = steps.next(outputElement.lastPromiseValue);\n",
              "  return Promise.resolve(next.value.promise).then((value) => {\n",
              "    // Cache the last promise value to make it available to the next\n",
              "    // step of the generator.\n",
              "    outputElement.lastPromiseValue = value;\n",
              "    return next.value.response;\n",
              "  });\n",
              "}\n",
              "\n",
              "/**\n",
              " * Generator function which is called between each async step of the upload\n",
              " * process.\n",
              " * @param {string} inputId Element ID of the input file picker element.\n",
              " * @param {string} outputId Element ID of the output display.\n",
              " * @return {!Iterable<!Object>} Iterable of next steps.\n",
              " */\n",
              "function* uploadFilesStep(inputId, outputId) {\n",
              "  const inputElement = document.getElementById(inputId);\n",
              "  inputElement.disabled = false;\n",
              "\n",
              "  const outputElement = document.getElementById(outputId);\n",
              "  outputElement.innerHTML = '';\n",
              "\n",
              "  const pickedPromise = new Promise((resolve) => {\n",
              "    inputElement.addEventListener('change', (e) => {\n",
              "      resolve(e.target.files);\n",
              "    });\n",
              "  });\n",
              "\n",
              "  const cancel = document.createElement('button');\n",
              "  inputElement.parentElement.appendChild(cancel);\n",
              "  cancel.textContent = 'Cancel upload';\n",
              "  const cancelPromise = new Promise((resolve) => {\n",
              "    cancel.onclick = () => {\n",
              "      resolve(null);\n",
              "    };\n",
              "  });\n",
              "\n",
              "  // Wait for the user to pick the files.\n",
              "  const files = yield {\n",
              "    promise: Promise.race([pickedPromise, cancelPromise]),\n",
              "    response: {\n",
              "      action: 'starting',\n",
              "    }\n",
              "  };\n",
              "\n",
              "  cancel.remove();\n",
              "\n",
              "  // Disable the input element since further picks are not allowed.\n",
              "  inputElement.disabled = true;\n",
              "\n",
              "  if (!files) {\n",
              "    return {\n",
              "      response: {\n",
              "        action: 'complete',\n",
              "      }\n",
              "    };\n",
              "  }\n",
              "\n",
              "  for (const file of files) {\n",
              "    const li = document.createElement('li');\n",
              "    li.append(span(file.name, {fontWeight: 'bold'}));\n",
              "    li.append(span(\n",
              "        `(${file.type || 'n/a'}) - ${file.size} bytes, ` +\n",
              "        `last modified: ${\n",
              "            file.lastModifiedDate ? file.lastModifiedDate.toLocaleDateString() :\n",
              "                                    'n/a'} - `));\n",
              "    const percent = span('0% done');\n",
              "    li.appendChild(percent);\n",
              "\n",
              "    outputElement.appendChild(li);\n",
              "\n",
              "    const fileDataPromise = new Promise((resolve) => {\n",
              "      const reader = new FileReader();\n",
              "      reader.onload = (e) => {\n",
              "        resolve(e.target.result);\n",
              "      };\n",
              "      reader.readAsArrayBuffer(file);\n",
              "    });\n",
              "    // Wait for the data to be ready.\n",
              "    let fileData = yield {\n",
              "      promise: fileDataPromise,\n",
              "      response: {\n",
              "        action: 'continue',\n",
              "      }\n",
              "    };\n",
              "\n",
              "    // Use a chunked sending to avoid message size limits. See b/62115660.\n",
              "    let position = 0;\n",
              "    do {\n",
              "      const length = Math.min(fileData.byteLength - position, MAX_PAYLOAD_SIZE);\n",
              "      const chunk = new Uint8Array(fileData, position, length);\n",
              "      position += length;\n",
              "\n",
              "      const base64 = btoa(String.fromCharCode.apply(null, chunk));\n",
              "      yield {\n",
              "        response: {\n",
              "          action: 'append',\n",
              "          file: file.name,\n",
              "          data: base64,\n",
              "        },\n",
              "      };\n",
              "\n",
              "      let percentDone = fileData.byteLength === 0 ?\n",
              "          100 :\n",
              "          Math.round((position / fileData.byteLength) * 100);\n",
              "      percent.textContent = `${percentDone}% done`;\n",
              "\n",
              "    } while (position < fileData.byteLength);\n",
              "  }\n",
              "\n",
              "  // All done.\n",
              "  yield {\n",
              "    response: {\n",
              "      action: 'complete',\n",
              "    }\n",
              "  };\n",
              "}\n",
              "\n",
              "scope.google = scope.google || {};\n",
              "scope.google.colab = scope.google.colab || {};\n",
              "scope.google.colab._files = {\n",
              "  _uploadFiles,\n",
              "  _uploadFilesContinue,\n",
              "};\n",
              "})(self);\n",
              "</script> "
            ]
          },
          "metadata": {}
        }
      ]
    },
    {
      "cell_type": "markdown",
      "source": [
        "3. How would you handle a case where the file doesn't exist while trying to open it for reading"
      ],
      "metadata": {
        "id": "AYaGzs_8nKx_"
      }
    },
    {
      "cell_type": "code",
      "source": [
        "file_path = 'nonexistent_file.txt'\n",
        "\n",
        "try:\n",
        "    with open(file_path, 'r') as file:\n",
        "        for line in file:\n",
        "            print(line, end='')\n",
        "except FileNotFoundError:\n",
        "    print(f\"Error: The file '{file_path}' does not exist.\")\n",
        "except Exception as e:\n",
        "    print(f\"An unexpected error occurred: {e}\")\n"
      ],
      "metadata": {
        "colab": {
          "base_uri": "https://localhost:8080/"
        },
        "id": "X0x8z1s8nSqU",
        "outputId": "587f2b92-8231-4bba-a1a8-6e11b00ec901"
      },
      "execution_count": 2,
      "outputs": [
        {
          "output_type": "stream",
          "name": "stdout",
          "text": [
            "Error: The file 'nonexistent_file.txt' does not exist.\n"
          ]
        }
      ]
    },
    {
      "cell_type": "markdown",
      "source": [
        "4. Write a Python script that reads from one file and writes its content to another file"
      ],
      "metadata": {
        "id": "n-FXvXhWnjZV"
      }
    },
    {
      "cell_type": "code",
      "source": [
        "def copy_file(source_file, destination_file):\n",
        "    try:\n",
        "        with open(source_file, 'r') as src:\n",
        "            content = src.read()\n",
        "\n",
        "        with open(destination_file, 'w') as dest:\n",
        "            dest.write(content)\n",
        "\n",
        "        print(f\"Content successfully copied from {source_file} to {destination_file}\")\n",
        "\n",
        "    except FileNotFoundError:\n",
        "        print(\"Error: Source file not found.\")\n",
        "    except Exception as e:\n",
        "        print(f\"An error occurred: {e}\")\n",
        "\n",
        "# Example usage\n",
        "copy_file(\"input.txt\", \"output.txt\")\n"
      ],
      "metadata": {
        "colab": {
          "base_uri": "https://localhost:8080/"
        },
        "id": "raJbIpzspCZU",
        "outputId": "f291b008-751c-4eb6-8d0e-99e6ee8fc16d"
      },
      "execution_count": 6,
      "outputs": [
        {
          "output_type": "stream",
          "name": "stdout",
          "text": [
            "Error: Source file not found.\n"
          ]
        }
      ]
    },
    {
      "cell_type": "markdown",
      "source": [
        "5. How would you catch and handle division by zero error in Python"
      ],
      "metadata": {
        "id": "Q8gBb4EEpIjq"
      }
    },
    {
      "cell_type": "code",
      "source": [
        "try:\n",
        "  result = 10 / 0\n",
        "except ZeroDivisionError:\n",
        "  print(\"Cannot divide by zero.\")"
      ],
      "metadata": {
        "colab": {
          "base_uri": "https://localhost:8080/"
        },
        "id": "QB3ojqiipJgG",
        "outputId": "abbdf236-5f9b-48b9-f35f-768929d2318e"
      },
      "execution_count": 7,
      "outputs": [
        {
          "output_type": "stream",
          "name": "stdout",
          "text": [
            "Cannot divide by zero.\n"
          ]
        }
      ]
    },
    {
      "cell_type": "markdown",
      "source": [
        "6. Write a Python program that logs an error message to a log file when a division by zero exception occurs"
      ],
      "metadata": {
        "id": "VW0924appU6Y"
      }
    },
    {
      "cell_type": "code",
      "source": [
        "import logging\n",
        "logging.basicConfig(filename=\"error.log\", level=logging.ERROR)\n",
        "try:\n",
        "  result = 10 / 0\n",
        "except ZeroDivisionError as e:\n",
        "  logging.error(f\"Error occurred: {e}\")"
      ],
      "metadata": {
        "colab": {
          "base_uri": "https://localhost:8080/"
        },
        "id": "uIAEFn1zpb0z",
        "outputId": "a58760a0-cd8b-449c-860c-643947ab3ad0"
      },
      "execution_count": 8,
      "outputs": [
        {
          "output_type": "stream",
          "name": "stderr",
          "text": [
            "ERROR:root:Error occurred: division by zero\n"
          ]
        }
      ]
    },
    {
      "cell_type": "markdown",
      "source": [
        "7. How do you log information at different levels (INFO, ERROR, WARNING) in Python using the logging\n",
        "module"
      ],
      "metadata": {
        "id": "ga_OkQTnpoCX"
      }
    },
    {
      "cell_type": "code",
      "source": [
        "import logging\n",
        "logging.basicConfig(level=logging.DEBUG, filename='app.log', filemode='w')\n",
        "logging.info(\"This is an info message.\")\n",
        "logging.warning(\"This is a warning message.\")\n",
        "logging.error(\"This is an error message.\")"
      ],
      "metadata": {
        "colab": {
          "base_uri": "https://localhost:8080/"
        },
        "id": "Hz0QZ2kOpo0Y",
        "outputId": "e42d828d-c85c-4f2c-f6fc-f123e6c8af86"
      },
      "execution_count": 9,
      "outputs": [
        {
          "output_type": "stream",
          "name": "stderr",
          "text": [
            "WARNING:root:This is a warning message.\n",
            "ERROR:root:This is an error message.\n"
          ]
        }
      ]
    },
    {
      "cell_type": "markdown",
      "source": [
        "8. Write a program to handle a file opening error using exception handling"
      ],
      "metadata": {
        "id": "f_dP6ILPpvY0"
      }
    },
    {
      "cell_type": "code",
      "source": [
        "try:\n",
        "  with open(\"data.txt\", \"r\") as file:\n",
        "    content = file.read()\n",
        "except FileNotFoundError:\n",
        "    print(\"The file could not be found.\")"
      ],
      "metadata": {
        "colab": {
          "base_uri": "https://localhost:8080/"
        },
        "id": "6rV23g1ipzZp",
        "outputId": "1f66c661-8cea-4d68-d1c2-224af6cd597c"
      },
      "execution_count": 15,
      "outputs": [
        {
          "output_type": "stream",
          "name": "stdout",
          "text": [
            "The file could not be found.\n"
          ]
        }
      ]
    },
    {
      "cell_type": "markdown",
      "source": [
        "9. How can you read a file line by line and store its content in a list in Python"
      ],
      "metadata": {
        "id": "HzaDSTFmqPtE"
      }
    },
    {
      "cell_type": "code",
      "source": [
        "def read_file_lines(file_path):\n",
        "    try:\n",
        "        with open(file_path, 'r') as file:\n",
        "            lines = file.readlines()  # Read all lines into a list\n",
        "\n",
        "        return [line.strip() for line in lines]  # Remove any trailing newline characters\n",
        "\n",
        "    except FileNotFoundError:\n",
        "        print(\"Error: File not found.\")\n",
        "        return []\n",
        "    except Exception as e:\n",
        "        print(f\"An error occurred: {e}\")\n",
        "        return []\n",
        "\n",
        "# Example usage\n",
        "file_content = read_file_lines(\"example.txt\")\n",
        "print(file_content)\n"
      ],
      "metadata": {
        "colab": {
          "base_uri": "https://localhost:8080/"
        },
        "id": "Ilk8MFJ4qyKC",
        "outputId": "ef7f8cd6-0e11-4668-fb04-ed892d6c6e0c"
      },
      "execution_count": 22,
      "outputs": [
        {
          "output_type": "stream",
          "name": "stdout",
          "text": [
            "Error: File not found.\n",
            "[]\n"
          ]
        }
      ]
    },
    {
      "cell_type": "markdown",
      "source": [
        "10. How can you append data to an existing file in Python"
      ],
      "metadata": {
        "id": "kSv1x4i1rExA"
      }
    },
    {
      "cell_type": "code",
      "source": [
        "with open(\"data.txt\", \"a\") as file:\n",
        "\n",
        " file.write(\"\\nThis is the new appended line.\")"
      ],
      "metadata": {
        "id": "NC-85n8xrJNt"
      },
      "execution_count": 24,
      "outputs": []
    },
    {
      "cell_type": "markdown",
      "source": [
        "11. Write a Python program that uses a try-except block to handle an error when attempting to access a\n",
        "dictionary key that doesn't exist"
      ],
      "metadata": {
        "id": "Oj96LDHfrXKS"
      }
    },
    {
      "cell_type": "code",
      "source": [
        "data = {\"name\": \"Hrushikesh\"}\n",
        "try:\n",
        "  print(data[\"age\"])\n",
        "except KeyError:\n",
        "  print(\"Key not found in dictionary.\")"
      ],
      "metadata": {
        "colab": {
          "base_uri": "https://localhost:8080/"
        },
        "id": "yMEukzNIrcFv",
        "outputId": "df8093a3-e2d7-4dba-cacf-a9a336a6a350"
      },
      "execution_count": 26,
      "outputs": [
        {
          "output_type": "stream",
          "name": "stdout",
          "text": [
            "Key not found in dictionary.\n"
          ]
        }
      ]
    },
    {
      "cell_type": "markdown",
      "source": [
        "12. Write a program that demonstrates using multiple except blocks to handle different types of\n",
        "exceptions"
      ],
      "metadata": {
        "id": "TTa85C4sr8V8"
      }
    },
    {
      "cell_type": "code",
      "source": [
        "try:\n",
        "  number = int(\"55\")\n",
        "  result = 10 / 0\n",
        "except ValueError:\n",
        "  print(\"ValueError occurred.\")\n",
        "except ZeroDivisionError:\n",
        "  print(\"ZeroDivisionError occurred.\")"
      ],
      "metadata": {
        "colab": {
          "base_uri": "https://localhost:8080/"
        },
        "id": "8nA2MBEcsBuq",
        "outputId": "3e5c0aff-683f-47d2-851a-e32a92359228"
      },
      "execution_count": 30,
      "outputs": [
        {
          "output_type": "stream",
          "name": "stdout",
          "text": [
            "ZeroDivisionError occurred.\n"
          ]
        }
      ]
    },
    {
      "cell_type": "markdown",
      "source": [
        "13. How would you check if a file exists before attempting to read it in Python"
      ],
      "metadata": {
        "id": "IlKypqdqsW03"
      }
    },
    {
      "cell_type": "code",
      "source": [
        "import os\n",
        "\n",
        "if os.path.exists(\"data.txt\"):\n",
        "    with open(\"data.txt\", \"r\") as file:\n",
        "        print(file.read())\n",
        "else:\n",
        "    print(\"File does not exist.\")"
      ],
      "metadata": {
        "colab": {
          "base_uri": "https://localhost:8080/"
        },
        "id": "tvP_eGPjtK7o",
        "outputId": "1de4a41a-6830-4980-96b1-daa4788bf8e8"
      },
      "execution_count": 31,
      "outputs": [
        {
          "output_type": "stream",
          "name": "stdout",
          "text": [
            "\n",
            "This is the new appended line.\n",
            "This is the new appended line.\n"
          ]
        }
      ]
    },
    {
      "cell_type": "markdown",
      "source": [
        "14. Write a program that uses the logging module to log both informational and error messages"
      ],
      "metadata": {
        "id": "1WhADJdQtRhX"
      }
    },
    {
      "cell_type": "code",
      "source": [
        "import logging\n",
        "\n",
        "logging.basicConfig(filename=\"logfile.log\", level=logging.DEBUG)\n",
        "\n",
        "logging.info(\"This is an info message.\")\n",
        "try:\n",
        "    result = 10 / 0\n",
        "except ZeroDivisionError as e:\n",
        "    logging.error(f\"An error occurred: {e}\")"
      ],
      "metadata": {
        "colab": {
          "base_uri": "https://localhost:8080/"
        },
        "id": "Q4f4-ofktWH4",
        "outputId": "7b8b81ac-c4b7-450f-d6b5-b5234001fbf2"
      },
      "execution_count": 32,
      "outputs": [
        {
          "output_type": "stream",
          "name": "stderr",
          "text": [
            "ERROR:root:An error occurred: division by zero\n"
          ]
        }
      ]
    },
    {
      "cell_type": "markdown",
      "source": [
        "15. Write a Python program that prints the content of a file and handles the case when the file is empty"
      ],
      "metadata": {
        "id": "xrrgkiSCtdTd"
      }
    },
    {
      "cell_type": "code",
      "source": [
        "file_name = \"sample.txt\"\n",
        "\n",
        "try:\n",
        "    with open(file_name, \"r\") as file:\n",
        "        content = file.read()\n",
        "        if content:\n",
        "            print(content)\n",
        "        else:\n",
        "            print(\"File is empty.\")\n",
        "except FileNotFoundError:\n",
        "    print(\"File not found.\")"
      ],
      "metadata": {
        "colab": {
          "base_uri": "https://localhost:8080/"
        },
        "id": "hzzho5_uth2p",
        "outputId": "11ef0faf-8bd5-4940-aaa8-668f3cfde6e5"
      },
      "execution_count": 33,
      "outputs": [
        {
          "output_type": "stream",
          "name": "stdout",
          "text": [
            "File not found.\n"
          ]
        }
      ]
    },
    {
      "cell_type": "markdown",
      "source": [
        "16. Demonstrate how to use memory profiling to check the memory usage of a small program"
      ],
      "metadata": {
        "id": "ZhUVSb9UtqPe"
      }
    },
    {
      "cell_type": "code",
      "source": [
        "!pip install memory_profiler\n",
        "from memory_profiler import memory_usage\n",
        "\n",
        "def create_large_list():\n",
        "    data = [i for i in range(100000)]  # Creating a large list\n",
        "    return data\n",
        "\n",
        "# Measure memory usage of the function\n",
        "mem_usage = memory_usage(create_large_list, interval=0.1)\n",
        "print(f\"Memory usage (MB): {mem_usage}\")\n"
      ],
      "metadata": {
        "colab": {
          "base_uri": "https://localhost:8080/"
        },
        "id": "jTfpa3buufC-",
        "outputId": "bf800f75-e505-450f-87a9-f58e340c078a"
      },
      "execution_count": 35,
      "outputs": [
        {
          "output_type": "stream",
          "name": "stdout",
          "text": [
            "Collecting memory_profiler\n",
            "  Downloading memory_profiler-0.61.0-py3-none-any.whl.metadata (20 kB)\n",
            "Requirement already satisfied: psutil in /usr/local/lib/python3.11/dist-packages (from memory_profiler) (5.9.5)\n",
            "Downloading memory_profiler-0.61.0-py3-none-any.whl (31 kB)\n",
            "Installing collected packages: memory_profiler\n",
            "Successfully installed memory_profiler-0.61.0\n",
            "Memory usage (MB): [121.68359375, 121.81640625, 122.078125, 122.078125, 122.078125, 122.48828125, 122.66796875, 122.66796875, 121.68359375, 121.68359375]\n"
          ]
        }
      ]
    },
    {
      "cell_type": "markdown",
      "source": [
        "17. Write a Python program to create and write a list of numbers to a file, one number per line"
      ],
      "metadata": {
        "id": "cU8ujkw7weoF"
      }
    },
    {
      "cell_type": "code",
      "source": [
        "numbers = [1, 2, 3, 4, 5]\n",
        "with open(\"numbers.txt\", \"w\") as file:\n",
        "  for num in numbers:\n",
        "     file.write(f\"{num}\\n\")"
      ],
      "metadata": {
        "id": "03V45b6awk0Z"
      },
      "execution_count": 42,
      "outputs": []
    },
    {
      "cell_type": "markdown",
      "source": [
        "18. How would you implement a basic logging setup that logs to a file with rotation after 1MB"
      ],
      "metadata": {
        "id": "IOp3ibxmxRsV"
      }
    },
    {
      "cell_type": "code",
      "source": [
        "import logging\n",
        "from logging.handlers import RotatingFileHandler\n",
        "handler = RotatingFileHandler(\"rotating.log\", maxBytes=1024*1024, backupCount=3)\n",
        "logging.basicConfig(handlers=[handler], level=logging.INFO)\n",
        "for i in range(10000):\n",
        "  logging.info(f\"This is log line {i}\")"
      ],
      "metadata": {
        "id": "YzHzB-kVxShe"
      },
      "execution_count": 43,
      "outputs": []
    },
    {
      "cell_type": "markdown",
      "source": [
        "19. Write a program that handles both IndexError and KeyError using a try-except block"
      ],
      "metadata": {
        "id": "7ex7Y6J1yFSU"
      }
    },
    {
      "cell_type": "code",
      "source": [
        "data = {\"name\": \"Hrushikesh\"}\n",
        "list_data = [10, 20, 30]\n",
        "try:\n",
        "  print(list_data[5])\n",
        "  print(data[\"age\"])\n",
        "except IndexError:\n",
        "  print(\"IndexError: List index out of range.\")\n",
        "except KeyError:\n",
        "  print(\"KeyError: Key not found in dictionary.\")"
      ],
      "metadata": {
        "colab": {
          "base_uri": "https://localhost:8080/"
        },
        "id": "3fWykYDryPuh",
        "outputId": "5f39b1a6-c3d5-47ac-948f-cd8e94bba0e6"
      },
      "execution_count": 44,
      "outputs": [
        {
          "output_type": "stream",
          "name": "stdout",
          "text": [
            "IndexError: List index out of range.\n"
          ]
        }
      ]
    },
    {
      "cell_type": "markdown",
      "source": [
        "20. How would you open a file and read its contents using a context manager in Python"
      ],
      "metadata": {
        "id": "3xYVQjb1yfNs"
      }
    },
    {
      "cell_type": "code",
      "source": [
        "def read_file(file_path):\n",
        "    try:\n",
        "        with open(file_path, 'r') as file:  # Open file using a context manager\n",
        "            content = file.read()  # Read the entire content\n",
        "\n",
        "        return content  # Return the content after closing the file automatically\n",
        "\n",
        "    except FileNotFoundError:\n",
        "        print(\"Error: File not found.\")\n",
        "        return None\n",
        "    except Exception as e:\n",
        "        print(f\"An error occurred: {e}\")\n",
        "        return None\n",
        "\n",
        "# Example usage\n",
        "file_content = read_file(\"example.txt\")\n",
        "if file_content:\n",
        "    print(file_content)\n"
      ],
      "metadata": {
        "colab": {
          "base_uri": "https://localhost:8080/"
        },
        "id": "YMrthxSLzBqd",
        "outputId": "836abc82-f0b4-466d-a676-aa17fc44054d"
      },
      "execution_count": 46,
      "outputs": [
        {
          "output_type": "stream",
          "name": "stdout",
          "text": [
            "Error: File not found.\n"
          ]
        }
      ]
    },
    {
      "cell_type": "markdown",
      "source": [
        "21. Write a Python program that reads a file and prints the number of occurrences of a specific word"
      ],
      "metadata": {
        "id": "NBMiMQM3zGIM"
      }
    },
    {
      "cell_type": "code",
      "source": [
        "def read_file(file_path):\n",
        "    try:\n",
        "        with open(file_path, 'r') as file:  # Open file using a context manager\n",
        "            content = file.read()  # Read the entire content\n",
        "\n",
        "        return content  # Return the content after closing the file automatically\n",
        "\n",
        "    except FileNotFoundError:\n",
        "        print(\"Error: File not found.\")\n",
        "        return None\n",
        "    except Exception as e:\n",
        "        print(f\"An error occurred: {e}\")\n",
        "        return None\n",
        "\n",
        "# Example usage\n",
        "file_content = read_file(\"example.txt\")\n",
        "if file_content:\n",
        "    print(file_content)\n"
      ],
      "metadata": {
        "colab": {
          "base_uri": "https://localhost:8080/"
        },
        "id": "cREJ2jt6z_z-",
        "outputId": "dce3b0b5-2713-42c3-953f-872f1aed202f"
      },
      "execution_count": 50,
      "outputs": [
        {
          "output_type": "stream",
          "name": "stdout",
          "text": [
            "Error: File not found.\n"
          ]
        }
      ]
    },
    {
      "cell_type": "markdown",
      "source": [
        "22. How can you check if a file is empty before attempting to read its contents"
      ],
      "metadata": {
        "id": "W7LbE57u0Cl8"
      }
    },
    {
      "cell_type": "code",
      "source": [
        "def is_file_empty(file_path):\n",
        "    try:\n",
        "        with open(file_path, 'r') as file:\n",
        "            return file.read() == \"\"\n",
        "    except FileNotFoundError:\n",
        "        print(\"Error: File not found.\")\n",
        "        return False\n",
        "\n",
        "# Example usage\n",
        "file_path = \"example.txt\"\n",
        "if is_file_empty(file_path):\n",
        "    print(f\"{file_path} is empty.\")\n",
        "else:\n",
        "    print(f\"{file_path} contains data.\")\n"
      ],
      "metadata": {
        "colab": {
          "base_uri": "https://localhost:8080/"
        },
        "id": "P3y3Z5vS0_P5",
        "outputId": "6bb7aeb1-ab9e-4df7-b56b-682ff158ee31"
      },
      "execution_count": 57,
      "outputs": [
        {
          "output_type": "stream",
          "name": "stdout",
          "text": [
            "example.txt is empty.\n"
          ]
        }
      ]
    },
    {
      "cell_type": "markdown",
      "source": [
        "23. Write a Python program that writes to a log file when an error occurs during file handling"
      ],
      "metadata": {
        "id": "k45bvPYY1G6i"
      }
    },
    {
      "cell_type": "code",
      "source": [
        "import logging\n",
        "logging.basicConfig(filename=\"file_errors.log\", level=logging.ERROR)\n",
        "try:\n",
        "  with open(\"nonexistent.txt\", \"r\") as file:\n",
        "    print(file.read())\n",
        "except FileNotFoundError as e:\n",
        "  logging.error(f\"File handling error: {e}\")"
      ],
      "metadata": {
        "colab": {
          "base_uri": "https://localhost:8080/"
        },
        "id": "T9VC8aZJ1IDz",
        "outputId": "e43007a9-7a33-4dcb-c8ac-7f87b48fab8e"
      },
      "execution_count": 58,
      "outputs": [
        {
          "output_type": "stream",
          "name": "stderr",
          "text": [
            "ERROR:root:File handling error: [Errno 2] No such file or directory: 'nonexistent.txt'\n"
          ]
        }
      ]
    }
  ]
}